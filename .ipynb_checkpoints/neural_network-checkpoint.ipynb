{
 "cells": [
  {
   "cell_type": "code",
   "execution_count": 158,
   "metadata": {},
   "outputs": [],
   "source": [
    "import numpy as np\n",
    "import pandas as pd\n",
    "import logging\n",
    "from graphviz import Digraph"
   ]
  },
  {
   "cell_type": "code",
   "execution_count": 6,
   "metadata": {},
   "outputs": [],
   "source": [
    "logging.basicConfig(filename='./log.txt',level=logging.DEBUG)\n"
   ]
  },
  {
   "cell_type": "code",
   "execution_count": 61,
   "metadata": {},
   "outputs": [],
   "source": [
    "def relu(x):\n",
    "    return x\n"
   ]
  },
  {
   "cell_type": "code",
   "execution_count": 154,
   "metadata": {},
   "outputs": [],
   "source": [
    "class layer:\n",
    "\n",
    "    def __init__(self, num_nodes, next_num_nodes = 1, initial_weight = None, actn_fxn = relu):\n",
    "\n",
    "        self.num_nodes = num_nodes\n",
    "        self.actn_fxn  = actn_fxn\n",
    "        self.next_num_nodes = next_num_nodes\n",
    "\n",
    "        self.weight_matrix = None\n",
    "        \n",
    "        if initial_weight is None:\n",
    "            logging.debug('Using default values for the weight matrix')\n",
    "            self.weight_matrix = np.zeros([self.num_nodes, self.next_num_nodes],dtype=float)\n",
    "        \n",
    "        elif isinstance(initial_weight, (int,float)):\n",
    "            logging.debug(\"Using the weight value for all weights in the layer\")\n",
    "            self.weight_matrix = (np.zeros(shape = (self.num_nodes, self.next_num_nodes),dtype=float))\n",
    "            self.weight_matrix.fill(float(initial_weight))\n",
    "            \n",
    "        elif initial_weight.shape == (self.num_nodes, self.next_num_nodes):\n",
    "            logging.debug(\"Using user provided values\")\n",
    "            self.weight_matrix = np.array(initial_weight, dtype = float)\n",
    "            \n",
    "        \n",
    "            \n",
    "        else:\n",
    "            logging.warning('Weight matrix provided is of incompatible size. Using default values')\n",
    "            self.weight_matrix = np.zeros(shape = (self.num_nodes,self.next_num_nodes),dtype = float)\n",
    "        \n",
    "        self.input_vector = None\n",
    "        \n",
    "    def send(self, input_vector):\n",
    "        \n",
    "        #flattened to keep things simple\n",
    "        input_vector = np.array(input_vector).flatten()\n",
    "        \n",
    "        if input_vector.shape != (self.num_nodes,):\n",
    "            logging.critical(\"Input vector not of desired size. Cannot continue!\")\n",
    "            return None\n",
    "        \n",
    "        self.input_vector = np.asarray([ self.actn_fxn(i) for i in input_vector ])\n",
    "            \n",
    "    \n",
    "    def generate(self):\n",
    "        \n",
    "        if self.input_vector is None:\n",
    "            logging.critical(\"Input not yet provided. Cannot continue!\")\n",
    "            return None\n",
    "        \n",
    "        #the input is required to be in a row only\n",
    "        temp_input_matrix = np.reshape(self.input_vector, newshape=(1,self.num_nodes))\n",
    "        \n",
    "        #input is consumed\n",
    "        self.input_vector = None\n",
    "        \n",
    "        output_matrix = np.dot(temp_input_matrix,self.weight_matrix)\n",
    "        \n",
    "        return output_matrix.flatten()\n",
    "        \n",
    "        \n",
    "    def desc(self):\n",
    "        print(\"Number of Nodes: {}\\n Number of Nodes in next layer: {}\\nWeights:\\n {}\\n\"\n",
    "               .format(self.num_nodes, self.next_num_nodes,self.weight_matrix))\n",
    "        \n",
    "        \n",
    "        "
   ]
  },
  {
   "cell_type": "code",
   "execution_count": 152,
   "metadata": {},
   "outputs": [],
   "source": [
    "class n_ff_network:\n",
    "    \n",
    "    def __init__(self, ff_layers, initial_weights = None, actn_fxn = relu):\n",
    "        \n",
    "        self.ff_layers = list(np.array(ff_layers).flatten())\n",
    "        self.num_layers = len(self.ff_layers)\n",
    "        \n",
    "        self.n_layers = None\n",
    "        \n",
    "        if isinstance(initial_weights,(type(None),int,float)):\n",
    "            self.n_layers = [ layer(num_nodes = self.ff_layers[i], next_num_nodes= self.ff_layers[i+1], \n",
    "                                    actn_fxn = actn_fxn, initial_weight= initial_weights)\n",
    "                               for i in range(self.num_layers - 1)]\n",
    "        \n",
    "        elif initial_weight.shape[0] == self.num_layers - 1:\n",
    "            self.n_layers = [ layer(num_nodes = self.ff_layers[i], next_num_nodes= self.ff_layers[i+1], \n",
    "                                    actn_fxn = actn_fxn, initial_weight= initial_weights[i])\n",
    "                               for i in range(self.num_layers - 1)]\n",
    "        \n",
    "        self.n_layers.append(layer(num_nodes = self.ff_layers[self.num_layers-1],initial_weight=1, \n",
    "                                       next_num_nodes=self.ff_layers[self.num_layers-1], actn_fxn = actn_fxn))\n",
    "            \n",
    "    def desc(self):\n",
    "        for i in range(self.num_layers):\n",
    "            print(\"Layer {}\\n\".format(i+1))\n",
    "            self.n_layers[i].desc()\n",
    "            \n",
    "    def show_network(self):\n",
    "        dot = Digraph(comment='Neural Network')\n",
    "        \n",
    "        start = 0\n",
    "        \n",
    "        last = self.num_layers - 1;\n",
    "        \n",
    "        curr_layer = self.n_layers[last]\n",
    "        \n",
    "        for i in range(curr_layer.num_nodes): "
   ]
  },
  {
   "cell_type": "code",
   "execution_count": 64,
   "metadata": {},
   "outputs": [],
   "source": [
    "a = [[1,2,3]]"
   ]
  },
  {
   "cell_type": "code",
   "execution_count": 65,
   "metadata": {},
   "outputs": [],
   "source": [
    "a = ((np.asarray(a).flatten()))"
   ]
  },
  {
   "cell_type": "code",
   "execution_count": 66,
   "metadata": {},
   "outputs": [
    {
     "name": "stdout",
     "output_type": "stream",
     "text": [
      "[1 2 3]\n"
     ]
    }
   ],
   "source": [
    "print(a)"
   ]
  },
  {
   "cell_type": "code",
   "execution_count": 67,
   "metadata": {},
   "outputs": [
    {
     "name": "stdout",
     "output_type": "stream",
     "text": [
      "<class 'int'>\n"
     ]
    }
   ],
   "source": [
    "print(type(3))"
   ]
  },
  {
   "cell_type": "code",
   "execution_count": 76,
   "metadata": {},
   "outputs": [],
   "source": [
    "np.ndarray.fill?"
   ]
  },
  {
   "cell_type": "code",
   "execution_count": 73,
   "metadata": {},
   "outputs": [
    {
     "name": "stdout",
     "output_type": "stream",
     "text": [
      "Hurray\n"
     ]
    }
   ],
   "source": [
    "if isinstance(3,(int,float)):\n",
    "    print(\"Hurray\")"
   ]
  },
  {
   "cell_type": "code",
   "execution_count": 143,
   "metadata": {},
   "outputs": [],
   "source": [
    "a = layer(num_nodes=3,initial_weight=1)"
   ]
  },
  {
   "cell_type": "code",
   "execution_count": 156,
   "metadata": {},
   "outputs": [
    {
     "name": "stdout",
     "output_type": "stream",
     "text": [
      "Layer 1\n",
      "\n",
      "Number of Nodes: 3\n",
      " Number of Nodes in next layer: 2\n",
      "Weights:\n",
      " [[0. 0.]\n",
      " [0. 0.]\n",
      " [0. 0.]]\n",
      "\n",
      "Layer 2\n",
      "\n",
      "Number of Nodes: 2\n",
      " Number of Nodes in next layer: 1\n",
      "Weights:\n",
      " [[0.]\n",
      " [0.]]\n",
      "\n",
      "Layer 3\n",
      "\n",
      "Number of Nodes: 1\n",
      " Number of Nodes in next layer: 1\n",
      "Weights:\n",
      " [[1.]]\n",
      "\n"
     ]
    }
   ],
   "source": [
    "a = n_ff_network(ff_layers=[3,2,1])\n",
    "a.desc()"
   ]
  },
  {
   "cell_type": "code",
   "execution_count": 162,
   "metadata": {
    "scrolled": false
   },
   "outputs": [
    {
     "name": "stdout",
     "output_type": "stream",
     "text": [
      "44\n"
     ]
    }
   ],
   "source": [
    "a = str(44)\n",
    "print(a)"
   ]
  },
  {
   "cell_type": "code",
   "execution_count": 169,
   "metadata": {},
   "outputs": [
    {
     "name": "stdout",
     "output_type": "stream",
     "text": [
      "[9, 8, 7, 6, 5, 4, 3, 2, 1, 0]\n"
     ]
    }
   ],
   "source": [
    "print(list(reversed(list(range(10)))))"
   ]
  },
  {
   "cell_type": "code",
   "execution_count": null,
   "metadata": {},
   "outputs": [],
   "source": []
  }
 ],
 "metadata": {
  "kernelspec": {
   "display_name": "Python 3",
   "language": "python",
   "name": "python3"
  },
  "language_info": {
   "codemirror_mode": {
    "name": "ipython",
    "version": 3
   },
   "file_extension": ".py",
   "mimetype": "text/x-python",
   "name": "python",
   "nbconvert_exporter": "python",
   "pygments_lexer": "ipython3",
   "version": "3.5.2"
  }
 },
 "nbformat": 4,
 "nbformat_minor": 2
}
